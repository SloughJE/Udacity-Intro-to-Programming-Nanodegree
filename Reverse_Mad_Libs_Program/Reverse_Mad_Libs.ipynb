{
 "cells": [
  {
   "cell_type": "code",
   "execution_count": 1,
   "metadata": {
    "collapsed": true
   },
   "outputs": [],
   "source": [
    "import random"
   ]
  },
  {
   "cell_type": "code",
   "execution_count": 2,
   "metadata": {
    "collapsed": true
   },
   "outputs": [],
   "source": [
    "text1 = \"--1-- thinking leads to creating perfectly clear and unambiguous instructions for a computer to follow whereas --2-- thinking maps general ideas from concrete notions. Systematically identifying problems and finding their potential causes is called --3--. If you have strong --4-- empathy you will have a good idea of how computers see things and how they will react. One very important concept in programming and problem solving in general is --5-- thinking, which means that you should break down a large problem into small pieces in order to solve it. HTML or Hypertext --6-- Language, is the main document language of the web. The main protocol of the web is HTTP, or Hypertext --7-- Protocol. --8-- are computers that host files that make up the web. The --9-- can be described as the world's largest computer network. To display files from the web,  a program called a --10-- is used by your computer. Back to HTML, HTML  --11--  are hidden keywords within a webpage and most have an opening and closing. They are always contained in angled brackets.  Everything inside them is called an --12--. 'href' is an example of an --13--. Computers are --14-- because they take everything literally.\""
   ]
  },
  {
   "cell_type": "code",
   "execution_count": 3,
   "metadata": {
    "collapsed": true
   },
   "outputs": [],
   "source": [
    "word_list1 = \"Procedural\",\"abstract\",\"debugging\",\"technological\",\"systems\",\"Markup\",\"Transfer\",\"Servers\",\"Internet\",\"browser\",\"tags\",\"element\",\"attribute\",\"stupid\""
   ]
  },
  {
   "cell_type": "code",
   "execution_count": 4,
   "metadata": {
    "collapsed": false
   },
   "outputs": [],
   "source": [
    "text2 = \"--1-- thinking leads to creating perfectly clear and unambiguous instructions for a computer to follow whereas --2-- thinking maps general ideas from concrete notions. Systematically identifying problems and finding their potential causes is called --3--. If you have strong --4-- empathy you will have a good idea of how computers see things and how they will react. One very important concept in programming and problem solving in general is --5-- thinking, which means that you should break down a large problem into small pieces in order to solve it. HTML or Hypertext --6-- Language, is the main document language of the web. The main protocol of the web is HTTP, or Hypertext --7-- Protocol. --8-- are computers that host files that make up the web. The --9-- can be described as the world's largest computer network. To display files from the web,  a program called a --10-- is used by your computer. Back to HTML, HTML  --11--  are hidden keywords within a webpage and most have an opening and closing. They are always contained in angled brackets.  Everything inside them is called an --12--. 'href' is an example of an --13--. Computers are --14-- because they take everything literally.\""
   ]
  },
  {
   "cell_type": "code",
   "execution_count": 5,
   "metadata": {
    "collapsed": true
   },
   "outputs": [],
   "source": [
    "word_list2 = \"Procedural\",\"abstract\",\"debugging\",\"technological\",\"systems\",\"Markup\",\"Transfer\",\"Servers\",\"Internet\",\"browser\",\"tags\",\"element\",\"attribute\",\"stupid\""
   ]
  },
  {
   "cell_type": "code",
   "execution_count": 6,
   "metadata": {
    "collapsed": true
   },
   "outputs": [],
   "source": [
    "text3 = \"--1-- thinking leads to creating perfectly clear and unambiguous instructions for a computer to follow whereas --2-- thinking maps general ideas from concrete notions. Systematically identifying problems and finding their potential causes is called --3--. If you have strong --4-- empathy you will have a good idea of how computers see things and how they will react. One very important concept in programming and problem solving in general is --5-- thinking, which means that you should break down a large problem into small pieces in order to solve it. HTML or Hypertext --6-- Language, is the main document language of the web. The main protocol of the web is HTTP, or Hypertext --7-- Protocol. --8-- are computers that host files that make up the web. The --9-- can be described as the world's largest computer network. To display files from the web,  a program called a --10-- is used by your computer. Back to HTML, HTML  --11--  are hidden keywords within a webpage and most have an opening and closing. They are always contained in angled brackets.  Everything inside them is called an --12--. 'href' is an example of an --13--. Computers are --14-- because they take everything literally.\""
   ]
  },
  {
   "cell_type": "code",
   "execution_count": 7,
   "metadata": {
    "collapsed": true
   },
   "outputs": [],
   "source": [
    "word_list3 = \"Procedural\",\"abstract\",\"debugging\",\"technological\",\"systems\",\"Markup\",\"Transfer\",\"Servers\",\"Internet\",\"browser\",\"tags\",\"element\",\"attribute\",\"stupid\""
   ]
  },
  {
   "cell_type": "code",
   "execution_count": 8,
   "metadata": {
    "collapsed": true
   },
   "outputs": [],
   "source": [
    "invalid_input = True"
   ]
  },
  {
   "cell_type": "code",
   "execution_count": 9,
   "metadata": {
    "collapsed": true
   },
   "outputs": [],
   "source": [
    "def choose_text(text1,word_list1,text2,word_list2,text3,word_list3,invalid_input):\n",
    "    while invalid_input == True:\n",
    "        input_text = raw_input(\"Choose the section you wish to review. Type: 1, 2, or 3 \")\n",
    "        if input_text == \"1\":\n",
    "            invalid_input = False\n",
    "            return text1,word_list1\n",
    "        elif input_text == \"2\":\n",
    "            invalid_input = False\n",
    "            return text2,word_list2\n",
    "        elif input_text == \"3\":\n",
    "            invalid_input = False\n",
    "            return text3,word_list3\n",
    "        else:\n",
    "            print \"Invalid entry! Try again.\"\n"
   ]
  },
  {
   "cell_type": "code",
   "execution_count": 10,
   "metadata": {
    "collapsed": false
   },
   "outputs": [
    {
     "name": "stdout",
     "output_type": "stream",
     "text": [
      "Choose the section you wish to review. Type: 1, 2, or 3 Schnuggi\n",
      "Invalid entry! Try again.\n",
      "Choose the section you wish to review. Type: 1, 2, or 3 1\n"
     ]
    }
   ],
   "source": [
    "text_and_word_list = choose_text(text1,word_list1,text2,word_list2,text3,word_list3,invalid_input)"
   ]
  },
  {
   "cell_type": "code",
   "execution_count": 11,
   "metadata": {
    "collapsed": true
   },
   "outputs": [],
   "source": [
    "summary_text = text_and_word_list[0]"
   ]
  },
  {
   "cell_type": "code",
   "execution_count": 12,
   "metadata": {
    "collapsed": true
   },
   "outputs": [],
   "source": [
    "word_list = text_and_word_list[1]"
   ]
  },
  {
   "cell_type": "code",
   "execution_count": 13,
   "metadata": {
    "collapsed": true
   },
   "outputs": [],
   "source": [
    "def create_list_of_blanks(word_list):\n",
    "    my_list = [\"--\"+str(x+1)+\"--\" for x in range(0,len(word_list))]\n",
    "    return my_list"
   ]
  },
  {
   "cell_type": "code",
   "execution_count": 14,
   "metadata": {
    "collapsed": true
   },
   "outputs": [],
   "source": [
    "list_of_blanks = create_list_of_blanks(word_list)"
   ]
  },
  {
   "cell_type": "code",
   "execution_count": 15,
   "metadata": {
    "collapsed": true
   },
   "outputs": [],
   "source": [
    "index_list = range(0,len(list_of_blanks))"
   ]
  },
  {
   "cell_type": "code",
   "execution_count": 16,
   "metadata": {
    "collapsed": true
   },
   "outputs": [],
   "source": [
    "num_words = len(word_list)"
   ]
  },
  {
   "cell_type": "code",
   "execution_count": 17,
   "metadata": {
    "collapsed": true
   },
   "outputs": [],
   "source": [
    "invalid_input = True"
   ]
  },
  {
   "cell_type": "code",
   "execution_count": 18,
   "metadata": {
    "collapsed": true
   },
   "outputs": [],
   "source": [
    "def difficulty(word_list,indexes,invalid_input,index_list,num_words):\n",
    "    while invalid_input == True:\n",
    "        input_difficulty = raw_input(\"Choose the difficulty level. Input: easy, medium, hard \")\n",
    "        if input_difficulty == \"easy\":\n",
    "            invalid_input = False; num_blanks = len(word_list)/3\n",
    "            ran_index = random.sample(xrange(0, num_words), num_blanks)\n",
    "            word_list_used = [word_list[i] for i in ran_index]\n",
    "            print \"Chosen level: \" + input_difficulty; return ran_index\n",
    "        elif input_difficulty == \"medium\":\n",
    "            invalid_input = False; num_blanks = len(word_list)/2\n",
    "            ran_index = random.sample(xrange(0, num_words), num_blanks)\n",
    "            word_list_used = [word_list[i] for i in ran_index]\n",
    "            print \"Chosen level: \" + input_difficulty; return ran_index\n",
    "        elif input_difficulty == \"hard\":\n",
    "            invalid_input = False;word_list_used = word_list\n",
    "            print \"Chosen level: \" + input_difficulty; return index_list\n",
    "        else:\n",
    "            print \"Invalid entry! Try again.\"\n"
   ]
  },
  {
   "cell_type": "code",
   "execution_count": 19,
   "metadata": {
    "collapsed": false
   },
   "outputs": [
    {
     "name": "stdout",
     "output_type": "stream",
     "text": [
      "Choose the difficulty level. Input: easy, medium, hard schnuggi\n",
      "Invalid entry! Try again.\n",
      "Choose the difficulty level. Input: easy, medium, hard easy\n",
      "Chosen level: easy\n"
     ]
    }
   ],
   "source": [
    "ran_index_unsort = difficulty(word_list,index_list,invalid_input,index_list,num_words)"
   ]
  },
  {
   "cell_type": "code",
   "execution_count": 40,
   "metadata": {
    "collapsed": false
   },
   "outputs": [],
   "source": [
    "ran_index = sorted(ran_index_unsort)"
   ]
  },
  {
   "cell_type": "code",
   "execution_count": 41,
   "metadata": {
    "collapsed": true
   },
   "outputs": [],
   "source": [
    "words_used = [word_list[i] for i in ran_index]"
   ]
  },
  {
   "cell_type": "code",
   "execution_count": 42,
   "metadata": {
    "collapsed": true
   },
   "outputs": [],
   "source": [
    "def word_in_list(word, parts_of_speech):\n",
    "    for pos in parts_of_speech:\n",
    "        if pos in word:\n",
    "            return pos\n",
    "    return None"
   ]
  },
  {
   "cell_type": "code",
   "execution_count": 43,
   "metadata": {
    "collapsed": true
   },
   "outputs": [],
   "source": [
    "replacement_word_index = [x for x in index_list if x not in ran_index]"
   ]
  },
  {
   "cell_type": "code",
   "execution_count": 44,
   "metadata": {
    "collapsed": true
   },
   "outputs": [],
   "source": [
    "test_words = [list_of_blanks[i] for i in replacement_word_index]"
   ]
  },
  {
   "cell_type": "code",
   "execution_count": 45,
   "metadata": {
    "collapsed": true
   },
   "outputs": [],
   "source": [
    "replacement_word_list = [word_list[i] for i in replacement_word_index]"
   ]
  },
  {
   "cell_type": "code",
   "execution_count": 46,
   "metadata": {
    "collapsed": true
   },
   "outputs": [],
   "source": [
    "def make_final_text(ml_string, parts_of_speech,test_words,replacement_word_list):\n",
    "    count = 0;replaced = [];index_list = range(0,len(parts_of_speech))\n",
    "    ml_string = ml_string.split()\n",
    "    for word in ml_string:\n",
    "        replacement = word_in_list(word, parts_of_speech)\n",
    "        if replacement != None:\n",
    "            if replacement in test_words:\n",
    "                while True:\n",
    "                    word = word.replace(replacement, replacement_word_list[count])\n",
    "                    replaced.append(word)\n",
    "                    count += 1\n",
    "                    break\n",
    "            else:\n",
    "                replaced.append(word)\n",
    "        else:\n",
    "            replaced.append(word)\n",
    "    replaced = \" \".join(replaced)\n",
    "    return replaced"
   ]
  },
  {
   "cell_type": "code",
   "execution_count": 47,
   "metadata": {
    "collapsed": true
   },
   "outputs": [],
   "source": [
    "level_of_text =  make_final_text(summary_text, list_of_blanks,test_words,replacement_word_list)"
   ]
  },
  {
   "cell_type": "code",
   "execution_count": 48,
   "metadata": {
    "collapsed": true
   },
   "outputs": [],
   "source": [
    "def answers_in_paragraph(word,replaced,split_string):\n",
    "    first_index = replaced.index(word)\n",
    "    first_part = \" \".join(replaced)\n",
    "    last_index = first_index + len(word)\n",
    "    last_part_list = split_string[first_index+1:]\n",
    "    last_part = \" \".join(last_part_list)\n",
    "    print \"\\n\" + first_part + \" \" + last_part +\"\\n\""
   ]
  },
  {
   "cell_type": "code",
   "execution_count": 49,
   "metadata": {
    "collapsed": false
   },
   "outputs": [
    {
     "name": "stdout",
     "output_type": "stream",
     "text": [
      "\n",
      "Fill in the blanks to help you study.\n",
      "You will only get 5 total chances to input a correct answer. \n",
      "If you are still not correct, the program will end.\n",
      "After you press enter, the text with blanks will appear. \n",
      "\n"
     ]
    }
   ],
   "source": [
    "print \"\\nFill in the blanks to help you study.\\nYou will only get 5 total chances to input a correct answer. \\nIf you are still not correct, the program will end.\\nAfter you press enter, the text with blanks will appear. \\n\" "
   ]
  },
  {
   "cell_type": "code",
   "execution_count": 50,
   "metadata": {
    "collapsed": false
   },
   "outputs": [
    {
     "name": "stdout",
     "output_type": "stream",
     "text": [
      "\n"
     ]
    },
    {
     "data": {
      "text/plain": [
       "''"
      ]
     },
     "execution_count": 50,
     "metadata": {},
     "output_type": "execute_result"
    }
   ],
   "source": [
    "raw_input(\"\")"
   ]
  },
  {
   "cell_type": "code",
   "execution_count": 51,
   "metadata": {
    "collapsed": false
   },
   "outputs": [
    {
     "name": "stdout",
     "output_type": "stream",
     "text": [
      "Procedural thinking leads to creating perfectly clear and unambiguous instructions for a computer to follow whereas abstract thinking maps general ideas from concrete notions. Systematically identifying problems and finding their potential causes is called debugging. If you have strong technological empathy you will have a good idea of how computers see things and how they will react. One very important concept in programming and problem solving in general is systems thinking, which means that you should break down a large problem into small pieces in order to solve it. HTML or Hypertext Markup Language, is the main document language of the web. The main protocol of the web is HTTP, or Hypertext Transfer Protocol. Servers are computers that host files that make up the web. The Internet can be described as the world's largest computer network. To display files from the web, a program called a --10-- is used by your computer. Back to HTML, HTML --11-- are hidden keywords within a webpage and most have an opening and closing. They are always contained in angled brackets. Everything inside them is called an --12--. 'href' is an example of an --13--. Computers are stupid because they take everything literally.\n",
      "\n"
     ]
    }
   ],
   "source": [
    "print level_of_text+\"\\n\""
   ]
  },
  {
   "cell_type": "code",
   "execution_count": 52,
   "metadata": {
    "collapsed": true
   },
   "outputs": [],
   "source": [
    "level_of_text_split = level_of_text.split()"
   ]
  },
  {
   "cell_type": "code",
   "execution_count": 56,
   "metadata": {
    "collapsed": true
   },
   "outputs": [],
   "source": [
    "def print_proc(wl_index,words_used,word,replaced,split_string_of_text):\n",
    "    if wl_index == len(words_used)-1:\n",
    "        print \"\\nCongratulations! You got all the answers correct! You are so knowledgeable!\\nThe final version is:\\n\"\n",
    "        answers_in_paragraph(word,replaced,split_string_of_text)\n",
    "        quit()\n",
    "    else:\n",
    "        print \"\\nGood Job! Try the next one!\\n\"\n",
    "        answers_in_paragraph(word,replaced,split_string_of_text)"
   ]
  },
  {
   "cell_type": "code",
   "execution_count": 57,
   "metadata": {
    "collapsed": true
   },
   "outputs": [],
   "source": [
    "def play_game(split_string_of_text, parts_of_speech):\n",
    "    replaced = [];wl_index = -1;tried = -1\n",
    "    for word in split_string_of_text:\n",
    "        replacement = word_in_list(word, parts_of_speech)\n",
    "        if replacement != None:\n",
    "            user_input = raw_input(\"Fill in blank: \" + replacement + \" \")\n",
    "            wl_index += 1\n",
    "            while user_input != words_used[wl_index]:\n",
    "                tried += 1\n",
    "                if tried >4:\n",
    "                    print \"Nope, the answer is \" + words_used[wl_index] + \"\\nGo back and study more. Good-bye\";raise SystemExit\n",
    "                else:\n",
    "                    user_input = raw_input(\"Try again. Be careful of correct spelling and capitalization. \" + replacement + \" \")\n",
    "            word = word.replace(replacement, user_input)\n",
    "            replaced.append(word)\n",
    "            print_proc(wl_index,words_used,word,replaced,split_string_of_text)\n",
    "        else:\n",
    "            replaced.append(word)\n",
    "    replaced = \" \".join(replaced)"
   ]
  },
  {
   "cell_type": "code",
   "execution_count": 58,
   "metadata": {
    "collapsed": false
   },
   "outputs": [
    {
     "name": "stdout",
     "output_type": "stream",
     "text": [
      "Fill in blank: --10-- Schnuggi\n",
      "Try again. Be careful of correct spelling and capitalization. --10-- browser\n",
      "\n",
      "Good Job! Try the next one!\n",
      "\n",
      "\n",
      "Procedural thinking leads to creating perfectly clear and unambiguous instructions for a computer to follow whereas abstract thinking maps general ideas from concrete notions. Systematically identifying problems and finding their potential causes is called debugging. If you have strong technological empathy you will have a good idea of how computers see things and how they will react. One very important concept in programming and problem solving in general is systems thinking, which means that you should break down a large problem into small pieces in order to solve it. HTML or Hypertext Markup Language, is the main document language of the web. The main protocol of the web is HTTP, or Hypertext Transfer Protocol. Servers are computers that host files that make up the web. The Internet can be described as the world's largest computer network. To display files from the web, a program called a browser is used by your computer. Back to HTML, HTML --11-- are hidden keywords within a webpage and most have an opening and closing. They are always contained in angled brackets. Everything inside them is called an --12--. 'href' is an example of an --13--. Computers are stupid because they take everything literally.\n",
      "\n",
      "Fill in blank: --11-- tags\n",
      "\n",
      "Good Job! Try the next one!\n",
      "\n",
      "\n",
      "Procedural thinking leads to creating perfectly clear and unambiguous instructions for a computer to follow whereas abstract thinking maps general ideas from concrete notions. Systematically identifying problems and finding their potential causes is called debugging. If you have strong technological empathy you will have a good idea of how computers see things and how they will react. One very important concept in programming and problem solving in general is systems thinking, which means that you should break down a large problem into small pieces in order to solve it. HTML or Hypertext Markup Language, is the main document language of the web. The main protocol of the web is HTTP, or Hypertext Transfer Protocol. Servers are computers that host files that make up the web. The Internet can be described as the world's largest computer network. To display files from the web, a program called a browser is used by your computer. Back to HTML, HTML tags are hidden keywords within a webpage and most have an opening and closing. They are always contained in angled brackets. Everything inside them is called an --12--. 'href' is an example of an --13--. Computers are stupid because they take everything literally.\n",
      "\n",
      "Fill in blank: --12-- element\n",
      "\n",
      "Good Job! Try the next one!\n",
      "\n",
      "\n",
      "Procedural thinking leads to creating perfectly clear and unambiguous instructions for a computer to follow whereas abstract thinking maps general ideas from concrete notions. Systematically identifying problems and finding their potential causes is called debugging. If you have strong technological empathy you will have a good idea of how computers see things and how they will react. One very important concept in programming and problem solving in general is systems thinking, which means that you should break down a large problem into small pieces in order to solve it. HTML or Hypertext Markup Language, is the main document language of the web. The main protocol of the web is HTTP, or Hypertext Transfer Protocol. Servers are computers that host files that make up the web. The Internet can be described as the world's largest computer network. To display files from the web, a program called a browser is used by your computer. Back to HTML, HTML tags are hidden keywords within a webpage and most have an opening and closing. They are always contained in angled brackets. Everything inside them is called an element. 'href' is an example of an --13--. Computers are stupid because they take everything literally.\n",
      "\n",
      "Fill in blank: --13-- attribute\n",
      "\n",
      "Congratulations! You got all the answers correct! You are so knowledgeable!\n",
      "The final version is:\n",
      "\n",
      "\n",
      "Procedural thinking leads to creating perfectly clear and unambiguous instructions for a computer to follow whereas abstract thinking maps general ideas from concrete notions. Systematically identifying problems and finding their potential causes is called debugging. If you have strong technological empathy you will have a good idea of how computers see things and how they will react. One very important concept in programming and problem solving in general is systems thinking, which means that you should break down a large problem into small pieces in order to solve it. HTML or Hypertext Markup Language, is the main document language of the web. The main protocol of the web is HTTP, or Hypertext Transfer Protocol. Servers are computers that host files that make up the web. The Internet can be described as the world's largest computer network. To display files from the web, a program called a browser is used by your computer. Back to HTML, HTML tags are hidden keywords within a webpage and most have an opening and closing. They are always contained in angled brackets. Everything inside them is called an element. 'href' is an example of an attribute. Computers are stupid because they take everything literally.\n",
      "\n",
      "None\n"
     ]
    }
   ],
   "source": [
    "print play_game(level_of_text_split, list_of_blanks)"
   ]
  },
  {
   "cell_type": "code",
   "execution_count": null,
   "metadata": {
    "collapsed": true
   },
   "outputs": [],
   "source": []
  },
  {
   "cell_type": "code",
   "execution_count": null,
   "metadata": {
    "collapsed": true
   },
   "outputs": [],
   "source": []
  },
  {
   "cell_type": "code",
   "execution_count": null,
   "metadata": {
    "collapsed": true
   },
   "outputs": [],
   "source": []
  }
 ],
 "metadata": {
  "kernelspec": {
   "display_name": "Python 2",
   "language": "python",
   "name": "python2"
  },
  "language_info": {
   "codemirror_mode": {
    "name": "ipython",
    "version": 2
   },
   "file_extension": ".py",
   "mimetype": "text/x-python",
   "name": "python",
   "nbconvert_exporter": "python",
   "pygments_lexer": "ipython2",
   "version": "2.7.10"
  }
 },
 "nbformat": 4,
 "nbformat_minor": 0
}
