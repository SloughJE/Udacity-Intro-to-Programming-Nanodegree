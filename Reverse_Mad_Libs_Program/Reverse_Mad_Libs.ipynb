{
 "cells": [
  {
   "cell_type": "code",
   "execution_count": 11,
   "metadata": {
    "collapsed": true
   },
   "outputs": [],
   "source": [
    "import random"
   ]
  },
  {
   "cell_type": "code",
   "execution_count": 12,
   "metadata": {
    "collapsed": true
   },
   "outputs": [],
   "source": [
    "list_of_blanks  = [\"--1--\", \"--2--\", \"--3--\", \"--4--\", \"--5--\",\"--6--\",\"--7--\",\"--8--\",\"--9--\",\"--10--\"]"
   ]
  },
  {
   "cell_type": "code",
   "execution_count": 13,
   "metadata": {
    "collapsed": true
   },
   "outputs": [],
   "source": [
    "test_string1 = \"--1-- thinking leads to creating perfectly clear and unambiguous instructions for a computer to follow whereas --2-- thinking maps general ideas from concrete notions. Systematically identifying problems and finding their potential causes is called --3--. If you have strong --4-- empathy you will have a good idea of how computers see things and how they will react. One very important concept in programming and problem solving in general is --5-- thinking, which means that you should break down a large problem into small pieces in order to solve it. HTML or Hypertext --6-- Language, is the main document language of the web. The main protocol of the web is HTTP, or Hypertext --7-- Protocol. --8-- are computers that host files that make up the web. The --9-- can be described as the world's largest computer network. To display files from the web,  a program called a --10-- is used by your computer.\""
   ]
  },
  {
   "cell_type": "code",
   "execution_count": 14,
   "metadata": {
    "collapsed": false
   },
   "outputs": [],
   "source": [
    "index_list = range(0,len(list_of_blanks))"
   ]
  },
  {
   "cell_type": "code",
   "execution_count": 15,
   "metadata": {
    "collapsed": true
   },
   "outputs": [],
   "source": [
    "word_list = [\"Procedural\",\"abstract\",\"debugging\",\"technological\",\"systems\",\"Markup\",\"Transfer\",\"Servers\",\"Internet\",\"browser\"]"
   ]
  },
  {
   "cell_type": "code",
   "execution_count": 16,
   "metadata": {
    "collapsed": true
   },
   "outputs": [],
   "source": [
    "index_of_words = range(0,len(word_list))"
   ]
  },
  {
   "cell_type": "code",
   "execution_count": 17,
   "metadata": {
    "collapsed": true
   },
   "outputs": [],
   "source": [
    "def difficulty(word_list,indexes):\n",
    "\tinput_difficulty = raw_input(\"Enter difficulty level: easy, medium, hard \")\n",
    "\tnum_words = len(word_list)\n",
    "\n",
    "\tif input_difficulty == \"easy\":\n",
    "\t\tnum_blanks = len(word_list)/3\n",
    "\t\tran_index = random.sample(xrange(0, num_words), num_blanks)\n",
    "\t\tword_list_used = [word_list[i] for i in ran_index]\n",
    "\t\treturn ran_index\n",
    "\telif input_difficulty == \"medium\":\n",
    "\t\tnum_blanks = len(word_list)/2\n",
    "\t\tran_index = random.sample(xrange(0, num_words), num_blanks)\n",
    "\t\tword_list_used = [word_list[i] for i in ran_index]\n",
    "\t\treturn ran_index\n",
    "\telse:\n",
    "\t\tword_list_used = word_list\n",
    "        \n",
    "\treturn index_of_words"
   ]
  },
  {
   "cell_type": "code",
   "execution_count": 20,
   "metadata": {
    "collapsed": false
   },
   "outputs": [
    {
     "name": "stdout",
     "output_type": "stream",
     "text": [
      "Enter difficulty level: easy, medium, hard easy\n"
     ]
    }
   ],
   "source": [
    "ran_index_unsort = difficulty(word_list,index_of_words)"
   ]
  },
  {
   "cell_type": "code",
   "execution_count": 21,
   "metadata": {
    "collapsed": true
   },
   "outputs": [],
   "source": [
    "ran_index = sorted(ran_index_unsort)"
   ]
  },
  {
   "cell_type": "code",
   "execution_count": 22,
   "metadata": {
    "collapsed": true
   },
   "outputs": [],
   "source": [
    "words_used = [word_list[i] for i in ran_index]"
   ]
  },
  {
   "cell_type": "code",
   "execution_count": 23,
   "metadata": {
    "collapsed": true
   },
   "outputs": [],
   "source": [
    "def word_in_list(word, parts_of_speech):\n",
    "    for pos in parts_of_speech:\n",
    "        if pos in word:\n",
    "            return pos\n",
    "    return None"
   ]
  },
  {
   "cell_type": "code",
   "execution_count": 24,
   "metadata": {
    "collapsed": true
   },
   "outputs": [],
   "source": [
    "def make_final_text(ml_string, parts_of_speech):\n",
    "    count = 0;replaced = []\n",
    "    index_list = range(0,len(parts_of_speech))\n",
    "    ml_string = ml_string.split()\n",
    "    replacement_word_index = [x for x in index_list if x not in ran_index]\n",
    "    test_words = [list_of_blanks[i] for i in replacement_word_index]\n",
    "    replacement_word_list = [word_list[i] for i in replacement_word_index]\n",
    "    for word in ml_string:\n",
    "        replacement = word_in_list(word, parts_of_speech)\n",
    "        if replacement != None:\n",
    "            if replacement in test_words:\n",
    "                while True: \n",
    "                    word = word.replace(replacement, replacement_word_list[count])\n",
    "                    replaced.append(word)\n",
    "                    count += 1\n",
    "                    break\n",
    "            else:\n",
    "                replaced.append(word)\n",
    "        else:\n",
    "            replaced.append(word)\n",
    "    replaced = \" \".join(replaced)\n",
    "    return replaced"
   ]
  },
  {
   "cell_type": "code",
   "execution_count": 25,
   "metadata": {
    "collapsed": true
   },
   "outputs": [],
   "source": [
    "level_of_text =  make_final_text(test_string1, list_of_blanks)"
   ]
  },
  {
   "cell_type": "code",
   "execution_count": 26,
   "metadata": {
    "collapsed": true
   },
   "outputs": [],
   "source": [
    "def play_game(ml_string, parts_of_speech):\n",
    "    print \"\\n Fill in the blanks to help you study. You will only get 5 total chances to input a correct answer. \\nIf you are still not correct, the program will end.\\n\" \n",
    "    print ml_string+\"\\n\" \n",
    "    replaced = [];wl_index = -1;tried = -1\n",
    "    ml_string_split = ml_string.split()\n",
    "    for word in ml_string_split:\n",
    "        replacement = word_in_list(word, parts_of_speech)\n",
    "        if replacement != None:\n",
    "            \n",
    "            user_input = raw_input(\"Fill in blank: \" + replacement + \" \")\n",
    "            wl_index += 1\n",
    "            \n",
    "            while user_input != words_used[wl_index]:\n",
    "                tried += 1\n",
    "                if tried >5:\n",
    "                    print \"Nope, the answer is \" + words_used[wl_index] + \"\\nGo back and study more. Good-bye\"\n",
    "                    raise SystemExit\n",
    "                else:\n",
    "                    user_input = raw_input(\"Try again \" + replacement + \" \")\n",
    "            word = word.replace(replacement, user_input)\n",
    "            replaced.append(word)\n",
    "            if wl_index == len(words_used)-1:\n",
    "                print \"\\nCongratulations! You got all the answers correct! You are so knowledgeable!\\nThe final version is:\\n\"\n",
    "                first_index = replaced.index(word)\n",
    "                first_part = \" \".join(replaced)\n",
    "                last_index = first_index + len(word)\n",
    "                last_part_list = ml_string_split[first_index+1:]\n",
    "                last_part = \" \".join(last_part_list)\n",
    "                \n",
    "                print \"\\n\" + first_part + \" \" + last_part +\"\\n\"\n",
    "                exit()\n",
    "            else:\n",
    "                print \"\\nGood Job! Try the next one!\\n\\n\"\n",
    "                first_index = replaced.index(word)\n",
    "                first_part = \" \".join(replaced)\n",
    "                last_index = first_index + len(word)\n",
    "                last_part_list = ml_string_split[first_index+1:]\n",
    "                last_part = \" \".join(last_part_list)\n",
    "                \n",
    "                print \"\\n\" + first_part + \" \" + last_part +\"\\n\"\n",
    "            \n",
    "        else:\n",
    "            replaced.append(word)\n",
    "    replaced = \" \".join(replaced)"
   ]
  },
  {
   "cell_type": "code",
   "execution_count": 28,
   "metadata": {
    "collapsed": false
   },
   "outputs": [
    {
     "name": "stdout",
     "output_type": "stream",
     "text": [
      "\n",
      " Fill in the blanks to help you study. You will only get 5 total chances to input a correct answer. \n",
      "If you are still not correct, the program will end.\n",
      "\n",
      "Procedural thinking leads to creating perfectly clear and unambiguous instructions for a computer to follow whereas --2-- thinking maps general ideas from concrete notions. Systematically identifying problems and finding their potential causes is called debugging. If you have strong technological empathy you will have a good idea of how computers see things and how they will react. One very important concept in programming and problem solving in general is systems thinking, which means that you should break down a large problem into small pieces in order to solve it. HTML or Hypertext Markup Language, is the main document language of the web. The main protocol of the web is HTTP, or Hypertext Transfer Protocol. --8-- are computers that host files that make up the web. The --9-- can be described as the world's largest computer network. To display files from the web, a program called a browser is used by your computer.\n",
      "\n",
      "Fill in blank: --2-- abstract\n",
      "\n",
      "Good Job! Try the next one!\n",
      "\n",
      "\n",
      "\n",
      "Procedural thinking leads to creating perfectly clear and unambiguous instructions for a computer to follow whereas abstract thinking maps general ideas from concrete notions. Systematically identifying problems and finding their potential causes is called debugging. If you have strong technological empathy you will have a good idea of how computers see things and how they will react. One very important concept in programming and problem solving in general is systems thinking, which means that you should break down a large problem into small pieces in order to solve it. HTML or Hypertext Markup Language, is the main document language of the web. The main protocol of the web is HTTP, or Hypertext Transfer Protocol. --8-- are computers that host files that make up the web. The --9-- can be described as the world's largest computer network. To display files from the web, a program called a browser is used by your computer.\n",
      "\n",
      "Fill in blank: --8-- Pies\n",
      "Try again --8-- Servers\n",
      "\n",
      "Good Job! Try the next one!\n",
      "\n",
      "\n",
      "\n",
      "Procedural thinking leads to creating perfectly clear and unambiguous instructions for a computer to follow whereas abstract thinking maps general ideas from concrete notions. Systematically identifying problems and finding their potential causes is called debugging. If you have strong technological empathy you will have a good idea of how computers see things and how they will react. One very important concept in programming and problem solving in general is systems thinking, which means that you should break down a large problem into small pieces in order to solve it. HTML or Hypertext Markup Language, is the main document language of the web. The main protocol of the web is HTTP, or Hypertext Transfer Protocol. Servers are computers that host files that make up the web. The --9-- can be described as the world's largest computer network. To display files from the web, a program called a browser is used by your computer.\n",
      "\n",
      "Fill in blank: --9-- Internet\n",
      "\n",
      "Congratulations! You got all the answers correct! You are so knowledgeable!\n",
      "The final version is:\n",
      "\n",
      "\n",
      "Procedural thinking leads to creating perfectly clear and unambiguous instructions for a computer to follow whereas abstract thinking maps general ideas from concrete notions. Systematically identifying problems and finding their potential causes is called debugging. If you have strong technological empathy you will have a good idea of how computers see things and how they will react. One very important concept in programming and problem solving in general is systems thinking, which means that you should break down a large problem into small pieces in order to solve it. HTML or Hypertext Markup Language, is the main document language of the web. The main protocol of the web is HTTP, or Hypertext Transfer Protocol. Servers are computers that host files that make up the web. The Internet can be described as the world's largest computer network. To display files from the web, a program called a browser is used by your computer.\n",
      "\n",
      "None\n"
     ]
    }
   ],
   "source": [
    "print play_game(level_of_text, list_of_blanks)       "
   ]
  },
  {
   "cell_type": "code",
   "execution_count": null,
   "metadata": {
    "collapsed": true
   },
   "outputs": [],
   "source": []
  },
  {
   "cell_type": "code",
   "execution_count": null,
   "metadata": {
    "collapsed": true
   },
   "outputs": [],
   "source": []
  },
  {
   "cell_type": "code",
   "execution_count": null,
   "metadata": {
    "collapsed": true
   },
   "outputs": [],
   "source": []
  },
  {
   "cell_type": "code",
   "execution_count": null,
   "metadata": {
    "collapsed": true
   },
   "outputs": [],
   "source": []
  }
 ],
 "metadata": {
  "kernelspec": {
   "display_name": "Python 2",
   "language": "python",
   "name": "python2"
  },
  "language_info": {
   "codemirror_mode": {
    "name": "ipython",
    "version": 2
   },
   "file_extension": ".py",
   "mimetype": "text/x-python",
   "name": "python",
   "nbconvert_exporter": "python",
   "pygments_lexer": "ipython2",
   "version": "2.7.10"
  }
 },
 "nbformat": 4,
 "nbformat_minor": 0
}
